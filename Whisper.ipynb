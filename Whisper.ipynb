{
  "nbformat": 4,
  "nbformat_minor": 0,
  "metadata": {
    "colab": {
      "provenance": [],
      "machine_shape": "hm",
      "authorship_tag": "ABX9TyMUBwPuReuugMu5iljvsh4m",
      "include_colab_link": true
    },
    "kernelspec": {
      "name": "python3",
      "display_name": "Python 3"
    },
    "language_info": {
      "name": "python"
    },
    "accelerator": "TPU"
  },
  "cells": [
    {
      "cell_type": "markdown",
      "metadata": {
        "id": "view-in-github",
        "colab_type": "text"
      },
      "source": [
        "<a href=\"https://colab.research.google.com/github/Natan1995/TFM_VIU/blob/main/Whisper.ipynb\" target=\"_parent\"><img src=\"https://colab.research.google.com/assets/colab-badge.svg\" alt=\"Open In Colab\"/></a>"
      ]
    },
    {
      "cell_type": "markdown",
      "metadata": {
        "id": "hVbXYX-RfPWh"
      },
      "source": [
        "# Experimentos - Audio a texto<br>\n",
        "                                        "
      ]
    },
    {
      "cell_type": "markdown",
      "source": [
        "### Instalación de librerias"
      ],
      "metadata": {
        "id": "pfnnm9knbYsv"
      }
    },
    {
      "cell_type": "code",
      "source": [
        "%%capture\n",
        "!pip install -U openai-whisper\n",
        "!pip install yt-dlp"
      ],
      "metadata": {
        "id": "YX63ON_8kW8J"
      },
      "execution_count": null,
      "outputs": []
    },
    {
      "cell_type": "code",
      "source": [
        "%%capture\n",
        "#!yt-dlp -x --audio-format mp3 https://www.youtube.com/watch?v=vLZlXnEnrU4 -o test.mp3\n",
        "!yt-dlp -x --audio-format mp3 https://www.youtube.com/watch?v=G0KisoxpgnA -o test.mp3"
      ],
      "metadata": {
        "id": "iJcjoWQOkurO"
      },
      "execution_count": null,
      "outputs": []
    },
    {
      "cell_type": "markdown",
      "source": [
        "### Librerias"
      ],
      "metadata": {
        "id": "tI7GzpaRbhvc"
      }
    },
    {
      "cell_type": "code",
      "source": [
        "import whisper"
      ],
      "metadata": {
        "id": "KNo35pkZkYz-"
      },
      "execution_count": null,
      "outputs": []
    },
    {
      "cell_type": "code",
      "source": [
        "model_size = \"large-v3\"\n",
        "model = whisper.load_model(model_size)\n",
        "result = model.transcribe(\"test.mp3\")"
      ],
      "metadata": {
        "colab": {
          "base_uri": "https://localhost:8080/"
        },
        "id": "CEfVJziNblvy",
        "outputId": "d55911a8-1fdb-46ad-a572-8fceeb58d2e7"
      },
      "execution_count": null,
      "outputs": [
        {
          "output_type": "stream",
          "name": "stderr",
          "text": [
            "/usr/local/lib/python3.10/dist-packages/whisper/transcribe.py:115: UserWarning: FP16 is not supported on CPU; using FP32 instead\n",
            "  warnings.warn(\"FP16 is not supported on CPU; using FP32 instead\")\n"
          ]
        }
      ]
    },
    {
      "cell_type": "code",
      "source": [
        "segments = result[\"segments\"]\n",
        "\n",
        "for segment in segments:\n",
        "    print(\"[%.2fs -> %.2fs] %s\" % (segment['start'], segment['end'], segment['text']))"
      ],
      "metadata": {
        "colab": {
          "base_uri": "https://localhost:8080/"
        },
        "id": "CR-E1qdYlGoI",
        "outputId": "85b56659-499c-478e-d2ae-f35a6a55e177"
      },
      "execution_count": null,
      "outputs": [
        {
          "output_type": "stream",
          "name": "stdout",
          "text": [
            "[0.00s -> 0.14s]  ...\n",
            "[0.14s -> 4.00s]  ...\n",
            "[11.26s -> 11.34s]  ...\n",
            "[11.34s -> 12.00s]  ...\n",
            "[13.46s -> 13.68s]  ¿Aló?\n",
            "[14.12s -> 16.30s]  Buenos días, ¿Usted es el titular de la línea?\n",
            "[16.70s -> 18.08s]  Sí, sí, sí, soy yo mismo.\n",
            "[18.30s -> 19.82s]  ¿Me puede decir su nombre, por favor?\n",
            "[19.96s -> 20.42s]  ¿Gabriel?\n",
            "[20.92s -> 24.64s]  Mire, señor Gabriel, le llamo de Moviselgo para ofrecerle una promoción.\n",
            "[24.86s -> 29.10s]  Consiste en la instalación de una línea adicional en su casa, donde usted tendrá derecho...\n",
            "[29.10s -> 31.74s]  Perdón, señorita, pero es que, ¿exactamente quién es usted?\n",
            "[32.24s -> 35.36s]  Mi nombre es Marcela Restrepo de Moviselgo y estamos llamando...\n",
            "[35.36s -> 41.36s]  Sí, sí, Marcela, discúlpeme, pero para nuestra seguridad me gustaría comprobar algunos datos antes de continuar con esta conversación.\n",
            "[41.38s -> 41.70s]  ¿Le importa?\n",
            "[42.20s -> 43.80s]  No, no tengo problema, señor.\n",
            "[43.96s -> 48.34s]  ¿Desde qué teléfono me llama? Es que en la pantallita aquí del mío sale número privado.\n",
            "[48.76s -> 50.52s]  El interno mío es 1004.\n",
            "[50.78s -> 53.28s]  Ya, ¿y para qué departamento de Moviselgo trabaja usted?\n",
            "[53.92s -> 54.98s]  Telemarketing Activo.\n",
            "[55.34s -> 58.24s]  Perdón, ¿me podría dar su identificación de trabajadora de Moviselgo?\n",
            "[59.10s -> 62.30s]  Señor, disculpe, pero creo que toda esa información no es necesaria.\n",
            "[62.50s -> 68.20s]  Entonces, pues lamentablemente voy a tener que colgar porque es que no tengo la seguridad de hablar con una trabajadora de Moviselgo.\n",
            "[68.58s -> 70.08s]  Pero yo le puedo garantizar...\n",
            "[70.08s -> 75.74s]  Mira, Marcela, cada vez que yo llamo a Moviselgo antes de poder comenzar cualquier trámite estoy obligado a dar mis datos al recepcionista,\n",
            "[76.08s -> 80.42s]  la secretaria, el auxiliar que me pone a escuchar musiquita mientras piensa quién le chuta la pelota,\n",
            "[80.42s -> 85.12s]  y luego repetirle a la historia al analista de ventas, al analista de quejas y reclamos,\n",
            "[85.50s -> 88.58s]  al analista de solicitudes nuevas, al de solicitudes viejas,\n",
            "[88.58s -> 91.58s]  al de solicitudes no atendidas, al de solicitudes ya atendidas,\n",
            "[91.96s -> 96.02s]  y al analista nuevo que apenas está entrenando y no tiene ni idea de qué le estoy preguntando.\n",
            "[96.30s -> 98.90s]  Así que si usted quiere hablar conmigo, pues tendrá que identificarse.\n",
            "[99.28s -> 106.02s]  Está bien, señor. Para que esté más tranquilo, le informo que mi número de empleada es el 3459-2B2.\n",
            "[106.30s -> 108.66s]  Un momentico mientras lo verifico. No se retire, Marcela.\n",
            "[111.72s -> 112.12s]  Señor.\n",
            "[114.74s -> 117.76s]  Un momento, es que toda la gente se encuentra ocupada aquí en la casa.\n",
            "[118.58s -> 119.08s]  Sí.\n",
            "[120.88s -> 122.54s]  Pero... ¿Hola, señor?\n",
            "[125.72s -> 126.12s]  Señor.\n",
            "[127.02s -> 130.42s]  Marcela, Marcela, un momento, por favor, que toda la gente se encuentra aquí ocupada.\n",
            "[133.70s -> 134.10s]  Bueno.\n",
            "[135.02s -> 135.72s]  ¿Don Gabriel?\n",
            "[136.52s -> 137.20s]  ¿Don Gabriel?\n",
            "[138.18s -> 141.92s]  Aló, sí, Marcela. Gracias por la espera. Nuestros sistemas están un poco lentos hoy.\n",
            "[142.40s -> 144.14s]  ¿Cuál era el asunto de su llamada, perdón?\n",
            "[145.30s -> 147.82s]  Lo llamo de Moiselgo y estamos llamando para ofrecerle...\n",
            "[147.82s -> 147.92s]  ¿Qué?\n",
            "[147.92s -> 147.94s]  ¿Qué?\n",
            "[147.94s -> 148.00s]  ¿Qué?\n",
            "[148.00s -> 148.06s]  ¿Qué?\n",
            "[148.06s -> 148.12s]  ¿Qué?\n",
            "[148.12s -> 148.14s]  ¿Qué?\n",
            "[148.14s -> 148.16s]  ¿Qué?\n",
            "[148.16s -> 148.22s]  ¿Qué?\n",
            "[148.22s -> 148.28s]  ¿Qué?\n",
            "[148.28s -> 148.38s]  ¿Qué?\n",
            "[148.38s -> 148.56s]  ¿Qué?\n",
            "[148.58s -> 149.36s]  ¿Qué?\n",
            "[149.36s -> 149.50s]  ¿Qué?\n",
            "[149.50s -> 153.34s]  Línea adicional en la que usted tiene derecho al uso de otra línea muy bajo costo.\n",
            "[153.60s -> 155.02s]  ¿Usted estaría interesado, don Gabriel?\n",
            "[155.28s -> 161.62s]  A ver, Marcela, gracias por llamar. Le voy a comunicar con mi mujer, que es la encargada de la sección de adquisición de productos técnicos en la casa.\n",
            "[161.92s -> 163.14s]  Por favor, no se retire de la línea.\n",
            "[166.40s -> 171.48s]  Ay, disculpe por la espera. ¿Me puede decir su teléfono? Es que en mi pantallita solo aparece el número privado.\n",
            "[172.98s -> 173.38s]  1004.\n",
            "[173.96s -> 175.30s]  Gracias. ¿Y con quién estoy hablando?\n",
            "[175.86s -> 176.98s]  Con Marcela.\n",
            "[177.24s -> 177.98s]  ¿Marcela qué? ¿Perdón?\n",
            "[177.98s -> 179.92s]  Marcela Restrepo\n",
            "[179.92s -> 181.24s]  Ay, no\n",
            "[181.24s -> 184.30s]  Perdón, ¿y cuál es su identificación de trabajadora de Moviselgo?\n",
            "[185.04s -> 187.90s]  35-59-1212\n",
            "[187.90s -> 189.10s]  Ah, no\n",
            "[189.10s -> 192.38s]  Gracias por la información, Marcela, ¿y en qué la puedo ayudar?\n",
            "[192.88s -> 197.70s]  Mire, la llamo de Moviselgo, estamos llamando para ofrecerle nuestra promoción línea adicional\n",
            "[197.70s -> 201.64s]  En la que usted tiene derecho a otra línea, ¿estaría interesada?\n",
            "[201.64s -> 204.64s]  Pues voy a ingresar su solicitud en nuestro programa de nuevas adquisiciones\n",
            "[205.16s -> 207.38s]  Y dentro de algunos días nos contactamos con usted\n",
            "[207.38s -> 210.08s]  ¿Puede anotar el número de ingreso al programa, por favor?\n",
            "[210.62s -> 210.92s]  Hola\n",
            "[210.92s -> 212.66s]  Hola\n"
          ]
        }
      ]
    }
  ]
}